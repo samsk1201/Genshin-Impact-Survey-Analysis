{
 "cells": [
  {
   "cell_type": "markdown",
   "id": "2f115a43",
   "metadata": {},
   "source": [
    "## Amount spent on Genshin Impact\n",
    "Below are the results of a survey conducted to determine how much individuals spend on the game Genshin Impact."
   ]
  },
  {
   "cell_type": "markdown",
   "id": "8f79e3a1",
   "metadata": {},
   "source": [
    "First we import the proper python modules such as pandas, numpy, and matplotlib since we are reading from a csv to display a dataframe and visual chart"
   ]
  },
  {
   "cell_type": "code",
   "execution_count": 1,
   "id": "cf5f49af",
   "metadata": {},
   "outputs": [],
   "source": [
    "import pandas as pd\n",
    "import numpy as np\n",
    "import matplotlib.pyplot as plt"
   ]
  },
  {
   "cell_type": "markdown",
   "id": "eda3c8a1",
   "metadata": {},
   "source": [
    "Pull the csv from the local folder and display it as a dataframe utilizing pandas"
   ]
  },
  {
   "cell_type": "code",
   "execution_count": 2,
   "id": "a3bef94f",
   "metadata": {},
   "outputs": [
    {
     "data": {
      "text/html": [
       "<div>\n",
       "<style scoped>\n",
       "    .dataframe tbody tr th:only-of-type {\n",
       "        vertical-align: middle;\n",
       "    }\n",
       "\n",
       "    .dataframe tbody tr th {\n",
       "        vertical-align: top;\n",
       "    }\n",
       "\n",
       "    .dataframe thead th {\n",
       "        text-align: right;\n",
       "    }\n",
       "</style>\n",
       "<table border=\"1\" class=\"dataframe\">\n",
       "  <thead>\n",
       "    <tr style=\"text-align: right;\">\n",
       "      <th></th>\n",
       "      <th>When did you start playing Genshin Impact</th>\n",
       "      <th>How much have you spent</th>\n",
       "      <th>Gender</th>\n",
       "      <th>Age</th>\n",
       "    </tr>\n",
       "  </thead>\n",
       "  <tbody>\n",
       "    <tr>\n",
       "      <th>0</th>\n",
       "      <td>Over a year</td>\n",
       "      <td>Nothing</td>\n",
       "      <td>Male</td>\n",
       "      <td>23</td>\n",
       "    </tr>\n",
       "    <tr>\n",
       "      <th>1</th>\n",
       "      <td>Less than one month</td>\n",
       "      <td>Nothing</td>\n",
       "      <td>Female</td>\n",
       "      <td>20</td>\n",
       "    </tr>\n",
       "    <tr>\n",
       "      <th>2</th>\n",
       "      <td>1 - 6 months</td>\n",
       "      <td>$100 - $500</td>\n",
       "      <td>Male</td>\n",
       "      <td>25</td>\n",
       "    </tr>\n",
       "    <tr>\n",
       "      <th>3</th>\n",
       "      <td>Less than one month</td>\n",
       "      <td>$100 - $500</td>\n",
       "      <td>Male</td>\n",
       "      <td>22</td>\n",
       "    </tr>\n",
       "    <tr>\n",
       "      <th>4</th>\n",
       "      <td>Over a year</td>\n",
       "      <td>Less than $50</td>\n",
       "      <td>Male</td>\n",
       "      <td>seventeen</td>\n",
       "    </tr>\n",
       "    <tr>\n",
       "      <th>...</th>\n",
       "      <td>...</td>\n",
       "      <td>...</td>\n",
       "      <td>...</td>\n",
       "      <td>...</td>\n",
       "    </tr>\n",
       "    <tr>\n",
       "      <th>90</th>\n",
       "      <td>Over a year</td>\n",
       "      <td>$100 - $500</td>\n",
       "      <td>Male</td>\n",
       "      <td>31</td>\n",
       "    </tr>\n",
       "    <tr>\n",
       "      <th>91</th>\n",
       "      <td>Over a year</td>\n",
       "      <td>Less than $50</td>\n",
       "      <td>Male</td>\n",
       "      <td>21</td>\n",
       "    </tr>\n",
       "    <tr>\n",
       "      <th>92</th>\n",
       "      <td>Over a year</td>\n",
       "      <td>$100 - $500</td>\n",
       "      <td>Male</td>\n",
       "      <td>19</td>\n",
       "    </tr>\n",
       "    <tr>\n",
       "      <th>93</th>\n",
       "      <td>Less than one month</td>\n",
       "      <td>Nothing</td>\n",
       "      <td>Female</td>\n",
       "      <td>22</td>\n",
       "    </tr>\n",
       "    <tr>\n",
       "      <th>94</th>\n",
       "      <td>Over a year</td>\n",
       "      <td>Nothing</td>\n",
       "      <td>Male</td>\n",
       "      <td>16</td>\n",
       "    </tr>\n",
       "  </tbody>\n",
       "</table>\n",
       "<p>95 rows × 4 columns</p>\n",
       "</div>"
      ],
      "text/plain": [
       "   When did you start playing Genshin Impact How much have you spent  Gender  \\\n",
       "0                                Over a year                 Nothing    Male   \n",
       "1                        Less than one month                 Nothing  Female   \n",
       "2                               1 - 6 months             $100 - $500    Male   \n",
       "3                        Less than one month             $100 - $500    Male   \n",
       "4                                Over a year           Less than $50    Male   \n",
       "..                                       ...                     ...     ...   \n",
       "90                               Over a year             $100 - $500    Male   \n",
       "91                               Over a year           Less than $50    Male   \n",
       "92                               Over a year             $100 - $500    Male   \n",
       "93                       Less than one month                 Nothing  Female   \n",
       "94                               Over a year                 Nothing    Male   \n",
       "\n",
       "          Age  \n",
       "0          23  \n",
       "1          20  \n",
       "2          25  \n",
       "3          22  \n",
       "4   seventeen  \n",
       "..        ...  \n",
       "90         31  \n",
       "91         21  \n",
       "92         19  \n",
       "93         22  \n",
       "94         16  \n",
       "\n",
       "[95 rows x 4 columns]"
      ]
     },
     "metadata": {},
     "output_type": "display_data"
    }
   ],
   "source": [
    "df = pd.read_csv('Google Forms Survey Results.csv')\n",
    "display(df)"
   ]
  },
  {
   "cell_type": "markdown",
   "id": "da7a9adb",
   "metadata": {},
   "source": [
    "Since the age field has inconsistencies in data types, it is necessary to process it."
   ]
  },
  {
   "cell_type": "code",
   "execution_count": 3,
   "id": "374c3bdc",
   "metadata": {},
   "outputs": [
    {
     "data": {
      "text/plain": [
       "20           12\n",
       "22           11\n",
       "23            7\n",
       "24            7\n",
       "25            7\n",
       "21            7\n",
       "19            7\n",
       "17            6\n",
       "28            5\n",
       "31            4\n",
       "29            4\n",
       "26            4\n",
       "16            4\n",
       "27            3\n",
       "30            2\n",
       "18            2\n",
       "14            1\n",
       "sixteen       1\n",
       "seventeen     1\n",
       "Name: Age, dtype: int64"
      ]
     },
     "execution_count": 3,
     "metadata": {},
     "output_type": "execute_result"
    }
   ],
   "source": [
    "df[\"Age\"].value_counts()"
   ]
  },
  {
   "cell_type": "markdown",
   "id": "118a7b73",
   "metadata": {},
   "source": [
    "Change 'seventeen' and 'sixteen' to integers. Display to see if the proper corrections were made"
   ]
  },
  {
   "cell_type": "code",
   "execution_count": 4,
   "id": "6c1e79e1",
   "metadata": {},
   "outputs": [
    {
     "data": {
      "text/plain": [
       "20    12\n",
       "22    11\n",
       "23     7\n",
       "24     7\n",
       "25     7\n",
       "21     7\n",
       "19     7\n",
       "17     6\n",
       "28     5\n",
       "31     4\n",
       "29     4\n",
       "26     4\n",
       "16     4\n",
       "27     3\n",
       "30     2\n",
       "18     2\n",
       "14     1\n",
       "16     1\n",
       "17     1\n",
       "Name: Age, dtype: int64"
      ]
     },
     "execution_count": 4,
     "metadata": {},
     "output_type": "execute_result"
    }
   ],
   "source": [
    "df.loc[df['Age']=='seventeen', 'Age'] = 17\n",
    "df.loc[df['Age']=='sixteen', 'Age'] = 16\n",
    "df[\"Age\"].value_counts()"
   ]
  },
  {
   "cell_type": "markdown",
   "id": "5a588f02",
   "metadata": {},
   "source": [
    "The amount spent field has missing \\\\$ symbols. Process it the same way the 'Age' field was processed. Since $ has a function in python, use \\\\\\ to disregard it's function and keep it as a string."
   ]
  },
  {
   "cell_type": "code",
   "execution_count": 5,
   "id": "dd354947",
   "metadata": {},
   "outputs": [],
   "source": [
    "df.loc[df['How much have you spent']== '$100 - $500'] = \"\\\\$100 - \\\\$500\"\n",
    "df.loc[df['How much have you spent']== '$500 - $1,000'] = \"\\\\$500 - \\\\$1,000\"\n",
    "df.loc[df['How much have you spent']== '$1,000 - $5,000'] = \"\\\\$1,000 - \\\\$5,000\"\n",
    "df.loc[df['How much have you spent']== '$50 - $100'] = \"\\\\$50 - \\\\$100\""
   ]
  },
  {
   "cell_type": "markdown",
   "id": "9ec9d51e",
   "metadata": {},
   "source": [
    "Now that the data is processed display it on a graph for analysis. I chose to display the data of the \"How much have you spent\" field on a pie graph and implemented some mathplotlib features to include a title, legend, bigger size/font, and to remove an arbitrary y label that is not necessary. "
   ]
  },
  {
   "cell_type": "code",
   "execution_count": 6,
   "id": "0e866d98",
   "metadata": {},
   "outputs": [
    {
     "data": {
      "image/png": "[encoded data removed]",
      "text/plain": [
       "<Figure size 864x864 with 1 Axes>"
      ]
     },
     "metadata": {},
     "output_type": "display_data"
    }
   ],
   "source": [
    "spent = df[\"How much have you spent\"].value_counts()\n",
    "spent.plot(kind='pie', subplots=True, figsize=(12,12), ylabel=\"\",textprops={'fontsize': 14})\n",
    "plt.title(\"How much have you spent on Genshin Impact?\")\n",
    "plt.legend(loc=\"lower left\")\n",
    "plt.show()"
   ]
  },
  {
   "cell_type": "markdown",
   "id": "bdd24f6e",
   "metadata": {},
   "source": [
    "Interestingly enough, based off of the survey only a fraction of the individuals spent more than \\\\$500, and the majority spent between \\\\$100 - \\\\$500."
   ]
  }
 ],
 "metadata": {
  "kernelspec": {
   "display_name": "Python 3 (ipykernel)",
   "language": "python",
   "name": "python3"
  },
  "language_info": {
   "codemirror_mode": {
    "name": "ipython",
    "version": 3
   },
   "file_extension": ".py",
   "mimetype": "text/x-python",
   "name": "python",
   "nbconvert_exporter": "python",
   "pygments_lexer": "ipython3",
   "version": "3.10.2"
  }
 },
 "nbformat": 4,
 "nbformat_minor": 5
}
